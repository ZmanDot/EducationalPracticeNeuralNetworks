{
  "nbformat": 4,
  "nbformat_minor": 0,
  "metadata": {
    "colab": {
      "provenance": []
    },
    "kernelspec": {
      "name": "python3",
      "display_name": "Python 3"
    },
    "language_info": {
      "name": "python"
    }
  },
  "cells": [
    {
      "cell_type": "markdown",
      "source": [
        "# Обзор TensorFlow, PyTorch и Keras\n",
        "\n",
        "В машинном обучении и глубоком обучении библиотеки TensorFlow, PyTorch и Keras — это мощные инструменты, которые предоставляют удобные интерфейсы для создания и обучения нейросетей. Рассмотрим, чем каждая из них уникальна, а также приведём примеры базового кода для использования в Google Colab.\n",
        "\n",
        "---\n",
        "\n"
      ],
      "metadata": {
        "id": "5ANF2rRcfS5M"
      }
    },
    {
      "cell_type": "markdown",
      "source": [
        "### TensorFlow\n",
        "**TensorFlow** — это библиотека от Google, широко используемая для обучения и разработки моделей глубокого обучения. Она предоставляет гибкость в создании нейросетей на уровне низкоуровневых операций и также поддерживает автоматизацию с помощью высокоуровневого API Keras (встроенного).\n",
        "\n",
        "#### Пример: Создание простой нейросети с TensorFlow"
      ],
      "metadata": {
        "id": "9eQ1tILmhdwd"
      }
    },
    {
      "cell_type": "code",
      "source": [
        "# Установка библиотеки (если нужно)\n",
        "!pip install tensorflow >> None"
      ],
      "metadata": {
        "id": "pIs_2TN8hWev"
      },
      "execution_count": 3,
      "outputs": []
    },
    {
      "cell_type": "code",
      "execution_count": 4,
      "metadata": {
        "colab": {
          "base_uri": "https://localhost:8080/",
          "height": 247
        },
        "id": "plSdb_3nexB7",
        "outputId": "65665f3f-f952-42a2-e28e-0539a9efd040"
      },
      "outputs": [
        {
          "output_type": "stream",
          "name": "stderr",
          "text": [
            "/usr/local/lib/python3.10/dist-packages/keras/src/layers/core/dense.py:87: UserWarning: Do not pass an `input_shape`/`input_dim` argument to a layer. When using Sequential models, prefer using an `Input(shape)` object as the first layer in the model instead.\n",
            "  super().__init__(activity_regularizer=activity_regularizer, **kwargs)\n"
          ]
        },
        {
          "output_type": "display_data",
          "data": {
            "text/plain": [
              "\u001b[1mModel: \"sequential_1\"\u001b[0m\n"
            ],
            "text/html": [
              "<pre style=\"white-space:pre;overflow-x:auto;line-height:normal;font-family:Menlo,'DejaVu Sans Mono',consolas,'Courier New',monospace\"><span style=\"font-weight: bold\">Model: \"sequential_1\"</span>\n",
              "</pre>\n"
            ]
          },
          "metadata": {}
        },
        {
          "output_type": "display_data",
          "data": {
            "text/plain": [
              "┏━━━━━━━━━━━━━━━━━━━━━━━━━━━━━━━━━━━━━━┳━━━━━━━━━━━━━━━━━━━━━━━━━━━━━┳━━━━━━━━━━━━━━━━━┓\n",
              "┃\u001b[1m \u001b[0m\u001b[1mLayer (type)                        \u001b[0m\u001b[1m \u001b[0m┃\u001b[1m \u001b[0m\u001b[1mOutput Shape               \u001b[0m\u001b[1m \u001b[0m┃\u001b[1m \u001b[0m\u001b[1m        Param #\u001b[0m\u001b[1m \u001b[0m┃\n",
              "┡━━━━━━━━━━━━━━━━━━━━━━━━━━━━━━━━━━━━━━╇━━━━━━━━━━━━━━━━━━━━━━━━━━━━━╇━━━━━━━━━━━━━━━━━┩\n",
              "│ dense_2 (\u001b[38;5;33mDense\u001b[0m)                      │ (\u001b[38;5;45mNone\u001b[0m, \u001b[38;5;34m128\u001b[0m)                 │         \u001b[38;5;34m100,480\u001b[0m │\n",
              "├──────────────────────────────────────┼─────────────────────────────┼─────────────────┤\n",
              "│ dense_3 (\u001b[38;5;33mDense\u001b[0m)                      │ (\u001b[38;5;45mNone\u001b[0m, \u001b[38;5;34m10\u001b[0m)                  │           \u001b[38;5;34m1,290\u001b[0m │\n",
              "└──────────────────────────────────────┴─────────────────────────────┴─────────────────┘\n"
            ],
            "text/html": [
              "<pre style=\"white-space:pre;overflow-x:auto;line-height:normal;font-family:Menlo,'DejaVu Sans Mono',consolas,'Courier New',monospace\">┏━━━━━━━━━━━━━━━━━━━━━━━━━━━━━━━━━━━━━━┳━━━━━━━━━━━━━━━━━━━━━━━━━━━━━┳━━━━━━━━━━━━━━━━━┓\n",
              "┃<span style=\"font-weight: bold\"> Layer (type)                         </span>┃<span style=\"font-weight: bold\"> Output Shape                </span>┃<span style=\"font-weight: bold\">         Param # </span>┃\n",
              "┡━━━━━━━━━━━━━━━━━━━━━━━━━━━━━━━━━━━━━━╇━━━━━━━━━━━━━━━━━━━━━━━━━━━━━╇━━━━━━━━━━━━━━━━━┩\n",
              "│ dense_2 (<span style=\"color: #0087ff; text-decoration-color: #0087ff\">Dense</span>)                      │ (<span style=\"color: #00d7ff; text-decoration-color: #00d7ff\">None</span>, <span style=\"color: #00af00; text-decoration-color: #00af00\">128</span>)                 │         <span style=\"color: #00af00; text-decoration-color: #00af00\">100,480</span> │\n",
              "├──────────────────────────────────────┼─────────────────────────────┼─────────────────┤\n",
              "│ dense_3 (<span style=\"color: #0087ff; text-decoration-color: #0087ff\">Dense</span>)                      │ (<span style=\"color: #00d7ff; text-decoration-color: #00d7ff\">None</span>, <span style=\"color: #00af00; text-decoration-color: #00af00\">10</span>)                  │           <span style=\"color: #00af00; text-decoration-color: #00af00\">1,290</span> │\n",
              "└──────────────────────────────────────┴─────────────────────────────┴─────────────────┘\n",
              "</pre>\n"
            ]
          },
          "metadata": {}
        },
        {
          "output_type": "display_data",
          "data": {
            "text/plain": [
              "\u001b[1m Total params: \u001b[0m\u001b[38;5;34m101,770\u001b[0m (397.54 KB)\n"
            ],
            "text/html": [
              "<pre style=\"white-space:pre;overflow-x:auto;line-height:normal;font-family:Menlo,'DejaVu Sans Mono',consolas,'Courier New',monospace\"><span style=\"font-weight: bold\"> Total params: </span><span style=\"color: #00af00; text-decoration-color: #00af00\">101,770</span> (397.54 KB)\n",
              "</pre>\n"
            ]
          },
          "metadata": {}
        },
        {
          "output_type": "display_data",
          "data": {
            "text/plain": [
              "\u001b[1m Trainable params: \u001b[0m\u001b[38;5;34m101,770\u001b[0m (397.54 KB)\n"
            ],
            "text/html": [
              "<pre style=\"white-space:pre;overflow-x:auto;line-height:normal;font-family:Menlo,'DejaVu Sans Mono',consolas,'Courier New',monospace\"><span style=\"font-weight: bold\"> Trainable params: </span><span style=\"color: #00af00; text-decoration-color: #00af00\">101,770</span> (397.54 KB)\n",
              "</pre>\n"
            ]
          },
          "metadata": {}
        },
        {
          "output_type": "display_data",
          "data": {
            "text/plain": [
              "\u001b[1m Non-trainable params: \u001b[0m\u001b[38;5;34m0\u001b[0m (0.00 B)\n"
            ],
            "text/html": [
              "<pre style=\"white-space:pre;overflow-x:auto;line-height:normal;font-family:Menlo,'DejaVu Sans Mono',consolas,'Courier New',monospace\"><span style=\"font-weight: bold\"> Non-trainable params: </span><span style=\"color: #00af00; text-decoration-color: #00af00\">0</span> (0.00 B)\n",
              "</pre>\n"
            ]
          },
          "metadata": {}
        }
      ],
      "source": [
        "import tensorflow as tf\n",
        "\n",
        "# Создание простейшей модели нейросети\n",
        "model = tf.keras.Sequential([\n",
        "    tf.keras.layers.Dense(128, activation='relu', input_shape=(784,)),  # Входной слой\n",
        "    tf.keras.layers.Dense(10, activation='softmax')  # Выходной слой для 10 классов\n",
        "])\n",
        "\n",
        "# Компиляция модели\n",
        "model.compile(optimizer='adam', loss='sparse_categorical_crossentropy', metrics=['accuracy'])\n",
        "\n",
        "# Проверка модели\n",
        "model.summary()"
      ]
    },
    {
      "cell_type": "markdown",
      "source": [
        "Мы создаем модель `Sequential`, которая представляет собой последовательность слоев.\n",
        "\n",
        "- `Dense(128, activation='relu', input_shape=(784,))`: Это первый слой сети. Слой `Dense` — это полносвязный слой (fully connected layer), который имеет 128 нейронов и использует функцию активации ReLU (Rectified Linear Unit). `input_shape=(784,)` указывает на входную форму данных (784 признака), например, для изображений 28x28 пикселей, выровненных в одномерный массив.\n",
        "  \n",
        "- `Dense(10, activation='softmax')`: Это выходной слой с 10 нейронами, который использует функцию активации `softmax`. Она нужна для задач классификации, так как позволяет получить вероятности принадлежности к каждому из 10 классов."
      ],
      "metadata": {
        "id": "AL31E-HQiLgP"
      }
    },
    {
      "cell_type": "markdown",
      "source": [
        "`model.compile(optimizer='adam', loss='sparse_categorical_crossentropy', metrics=['accuracy'])`\n",
        "Здесь модель компилируется с настройками для обучения:\n",
        "\n",
        "- `optimizer='adam'`: Оптимизатор Adam, который хорошо подходит для глубокого обучения.\n",
        "- `loss='sparse_categorical_crossentropy'`: Функция потерь для задачи многоклассовой классификации.\n",
        "- `metrics=['accuracy']`: Метрика для оценки точности модели.\n"
      ],
      "metadata": {
        "id": "ISJKrKVVipw5"
      }
    },
    {
      "cell_type": "markdown",
      "source": [
        "`model.summary()`\n",
        "\n",
        "Этот метод выводит структуру модели, включая информацию о каждом слое, его размере и количестве обучаемых параметров."
      ],
      "metadata": {
        "id": "50DgcSEjisZD"
      }
    },
    {
      "cell_type": "markdown",
      "source": [
        "- **Model: \"sequential_1\"**: Имя модели.\n",
        "- **Layer (type)**: Название и тип слоя. Здесь два слоя: `dense_2` и `dense_3`.\n",
        "  - `dense_2` (Dense) — первый полносвязный слой.\n",
        "  - `dense_3` (Dense) — выходной полносвязный слой.\n",
        "- **Output Shape**: Форма выходных данных для каждого слоя.\n",
        "  - `(None, 128)`: Выходной размер первого слоя имеет 128 нейронов, `None` указывает на неопределенное количество примеров в одном батче.\n",
        "  - `(None, 10)`: Выходной размер второго слоя, состоящего из 10 нейронов (для 10 классов).\n",
        "- **Param #**: Количество параметров для обучения в каждом слое.\n",
        "  - Первый слой имеет 100,480 параметров, потому что \\(784 \\times 128 + 128 = 100,480\\) (веса и смещения).\n",
        "  - Второй слой имеет 1,290 параметров, потому что \\(128 \\times 10 + 10 = 1,290\\)."
      ],
      "metadata": {
        "id": "B9FUMu4ziv_J"
      }
    },
    {
      "cell_type": "markdown",
      "source": [
        "### PyTorch\n",
        "**PyTorch** — библиотека от Facebook, известная своей гибкостью и простотой, особенно популярна среди исследователей. Она предоставляет доступ к тензорам (массивам данных), автоматическому дифференцированию и построению моделей. Отличается динамическим вычислительным графом, который упрощает отладку.\n",
        "\n",
        "#### Пример: Создание простой нейросети с PyTorch"
      ],
      "metadata": {
        "id": "MC-B2j9Ifhje"
      }
    },
    {
      "cell_type": "code",
      "source": [
        "# Установка библиотеки (если нужно)\n",
        "!pip install torch >> None"
      ],
      "metadata": {
        "id": "AFhBECY8i0Rp"
      },
      "execution_count": 6,
      "outputs": []
    },
    {
      "cell_type": "code",
      "source": [
        "import torch\n",
        "import torch.nn as nn                   #Содержит модули для создания нейросетей\n",
        "import torch.optim as optim             #Содержит алгоритмы оптимизации для обновления весов модели.\n",
        "\n",
        "# Определение простой модели\n",
        "class SimpleNN(nn.Module):\n",
        "    def __init__(self):\n",
        "        super(SimpleNN, self).__init__()\n",
        "        self.fc1 = nn.Linear(784, 128)  # Входной слой\n",
        "        self.fc2 = nn.Linear(128, 10)   # Выходной слой для 10 классов\n",
        "\n",
        "    def forward(self, x):\n",
        "        x = torch.relu(self.fc1(x))\n",
        "        x = torch.softmax(self.fc2(x), dim=1)\n",
        "        return x\n",
        "\n",
        "# Инициализация модели, функции потерь и оптимизатора\n",
        "model = SimpleNN()\n",
        "criterion = nn.CrossEntropyLoss()\n",
        "optimizer = optim.Adam(model.parameters(), lr=0.001)\n",
        "\n",
        "print(model)"
      ],
      "metadata": {
        "colab": {
          "base_uri": "https://localhost:8080/"
        },
        "id": "cQdwZl0zfoy3",
        "outputId": "ce3c0147-63f7-411d-c9d9-e527de63b42a"
      },
      "execution_count": 7,
      "outputs": [
        {
          "output_type": "stream",
          "name": "stdout",
          "text": [
            "SimpleNN(\n",
            "  (fc1): Linear(in_features=784, out_features=128, bias=True)\n",
            "  (fc2): Linear(in_features=128, out_features=10, bias=True)\n",
            ")\n"
          ]
        }
      ]
    },
    {
      "cell_type": "markdown",
      "source": [
        "Создается класс SimpleNN, который наследуется от nn.Module, базового класса для всех моделей PyTorch. В методе __init__ определены слои модели:\n",
        "\n",
        "`self.fc1 = nn.Linear(784, 128)`: Полносвязный слой (fully connected), принимающий на вход 784 нейрона и передающий 128 нейронов на следующий слой. Этот слой работает как входной слой.\n",
        "\n",
        "`self.fc2 = nn.Linear(128, 10)`: Полносвязный слой, который принимает 128 нейронов и выдает 10 выходов. Он используется как выходной слой, и каждый из 10 нейронов представляет вероятность принадлежности к одному из 10 классов."
      ],
      "metadata": {
        "id": "oL-AohXdjbNu"
      }
    },
    {
      "cell_type": "markdown",
      "source": [
        "Метод `forward` определяет, как данные проходят через сеть:\n",
        "\n",
        "`x = torch.relu(self.fc1(x))`: Активируется первый слой с функцией активации `ReLU` (Rectified Linear Unit), которая обнуляет отрицательные значения.\n",
        "\n",
        "`x = torch.softmax(self.fc2(x), dim=1)`: Применяется функция softmax на выходе второго слоя. Она преобразует выходы в вероятности по каждому из 10 классов. Аргумент dim=1 указывает, что softmax применяется по строкам, для каждого примера в батче."
      ],
      "metadata": {
        "id": "AclhqlrhjpC3"
      }
    },
    {
      "cell_type": "markdown",
      "source": [
        "`model = SimpleNN()`: Создается экземпляр модели SimpleNN.\n",
        "\n",
        "`criterion = nn.CrossEntropyLoss()`: Определяется функция потерь CrossEntropyLoss, которая используется для задач классификации.\n",
        "\n",
        "`optimizer = optim.Adam(model.parameters(), lr=0.001)`: Настраивается оптимизатор Adam для обновления параметров модели с использованием заданного коэффициента обучения lr=0.001."
      ],
      "metadata": {
        "id": "xYbhWAI5j0FZ"
      }
    },
    {
      "cell_type": "markdown",
      "source": [
        "**Объяснение результата**\n",
        "\n",
        "`SimpleNN`: Имя класса модели.\n",
        "\n",
        "`(fc1): Linear(in_features=784, out_features=128, bias=True)`: Первый слой fc1, являющийся полносвязным (Linear). Он принимает 784 входных признака и выдает 128 выходных значений. Параметр bias=True указывает, что добавляется смещение для каждого выхода.\n",
        "\n",
        "`(fc2): Linear(in_features=128, out_features=10, bias=True)`: Второй слой fc2, который также является полносвязным. Он принимает 128 входов от предыдущего слоя и выдает 10 значений, соответствующих 10 классам. bias=True также указывает на наличие смещения"
      ],
      "metadata": {
        "id": "QLsllDbmj6R7"
      }
    },
    {
      "cell_type": "markdown",
      "source": [
        "### Keras\n",
        "**Keras** — это высокоуровневый интерфейс, который позволяет быстро и просто строить модели нейросетей. Keras ранее был независимой библиотекой, но с версии TensorFlow 2.0 он интегрирован в TensorFlow, что делает его доступным для работы через `tf.keras`.\n",
        "\n",
        "#### Пример: Создание простой нейросети с Keras (через TensorFlow)"
      ],
      "metadata": {
        "id": "zQRYbpGhfs0e"
      }
    },
    {
      "cell_type": "code",
      "source": [
        "# Установка библиотеки (если нужно)\n",
        "!pip install tensorflow >> None"
      ],
      "metadata": {
        "id": "TqAFc7VEkUEt"
      },
      "execution_count": 8,
      "outputs": []
    },
    {
      "cell_type": "code",
      "source": [
        "from tensorflow.keras.models import Sequential\n",
        "from tensorflow.keras.layers import Dense\n",
        "\n",
        "# Создание модели\n",
        "model = Sequential([\n",
        "    Dense(128, activation='relu', input_shape=(784,)),  # Входной слой\n",
        "    Dense(10, activation='softmax')  # Выходной слой для 10 классов\n",
        "])\n",
        "\n",
        "# Компиляция модели\n",
        "model.compile(optimizer='adam', loss='sparse_categorical_crossentropy', metrics=['accuracy'])\n",
        "\n",
        "# Проверка модели\n",
        "model.summary()"
      ],
      "metadata": {
        "colab": {
          "base_uri": "https://localhost:8080/",
          "height": 193
        },
        "id": "kY_tSy4JfxJM",
        "outputId": "e4f5503a-55ec-49cf-86a5-e254c4108433"
      },
      "execution_count": 10,
      "outputs": [
        {
          "output_type": "display_data",
          "data": {
            "text/plain": [
              "\u001b[1mModel: \"sequential_3\"\u001b[0m\n"
            ],
            "text/html": [
              "<pre style=\"white-space:pre;overflow-x:auto;line-height:normal;font-family:Menlo,'DejaVu Sans Mono',consolas,'Courier New',monospace\"><span style=\"font-weight: bold\">Model: \"sequential_3\"</span>\n",
              "</pre>\n"
            ]
          },
          "metadata": {}
        },
        {
          "output_type": "display_data",
          "data": {
            "text/plain": [
              "┏━━━━━━━━━━━━━━━━━━━━━━━━━━━━━━━━━━━━━━┳━━━━━━━━━━━━━━━━━━━━━━━━━━━━━┳━━━━━━━━━━━━━━━━━┓\n",
              "┃\u001b[1m \u001b[0m\u001b[1mLayer (type)                        \u001b[0m\u001b[1m \u001b[0m┃\u001b[1m \u001b[0m\u001b[1mOutput Shape               \u001b[0m\u001b[1m \u001b[0m┃\u001b[1m \u001b[0m\u001b[1m        Param #\u001b[0m\u001b[1m \u001b[0m┃\n",
              "┡━━━━━━━━━━━━━━━━━━━━━━━━━━━━━━━━━━━━━━╇━━━━━━━━━━━━━━━━━━━━━━━━━━━━━╇━━━━━━━━━━━━━━━━━┩\n",
              "│ dense_6 (\u001b[38;5;33mDense\u001b[0m)                      │ (\u001b[38;5;45mNone\u001b[0m, \u001b[38;5;34m128\u001b[0m)                 │         \u001b[38;5;34m100,480\u001b[0m │\n",
              "├──────────────────────────────────────┼─────────────────────────────┼─────────────────┤\n",
              "│ dense_7 (\u001b[38;5;33mDense\u001b[0m)                      │ (\u001b[38;5;45mNone\u001b[0m, \u001b[38;5;34m10\u001b[0m)                  │           \u001b[38;5;34m1,290\u001b[0m │\n",
              "└──────────────────────────────────────┴─────────────────────────────┴─────────────────┘\n"
            ],
            "text/html": [
              "<pre style=\"white-space:pre;overflow-x:auto;line-height:normal;font-family:Menlo,'DejaVu Sans Mono',consolas,'Courier New',monospace\">┏━━━━━━━━━━━━━━━━━━━━━━━━━━━━━━━━━━━━━━┳━━━━━━━━━━━━━━━━━━━━━━━━━━━━━┳━━━━━━━━━━━━━━━━━┓\n",
              "┃<span style=\"font-weight: bold\"> Layer (type)                         </span>┃<span style=\"font-weight: bold\"> Output Shape                </span>┃<span style=\"font-weight: bold\">         Param # </span>┃\n",
              "┡━━━━━━━━━━━━━━━━━━━━━━━━━━━━━━━━━━━━━━╇━━━━━━━━━━━━━━━━━━━━━━━━━━━━━╇━━━━━━━━━━━━━━━━━┩\n",
              "│ dense_6 (<span style=\"color: #0087ff; text-decoration-color: #0087ff\">Dense</span>)                      │ (<span style=\"color: #00d7ff; text-decoration-color: #00d7ff\">None</span>, <span style=\"color: #00af00; text-decoration-color: #00af00\">128</span>)                 │         <span style=\"color: #00af00; text-decoration-color: #00af00\">100,480</span> │\n",
              "├──────────────────────────────────────┼─────────────────────────────┼─────────────────┤\n",
              "│ dense_7 (<span style=\"color: #0087ff; text-decoration-color: #0087ff\">Dense</span>)                      │ (<span style=\"color: #00d7ff; text-decoration-color: #00d7ff\">None</span>, <span style=\"color: #00af00; text-decoration-color: #00af00\">10</span>)                  │           <span style=\"color: #00af00; text-decoration-color: #00af00\">1,290</span> │\n",
              "└──────────────────────────────────────┴─────────────────────────────┴─────────────────┘\n",
              "</pre>\n"
            ]
          },
          "metadata": {}
        },
        {
          "output_type": "display_data",
          "data": {
            "text/plain": [
              "\u001b[1m Total params: \u001b[0m\u001b[38;5;34m101,770\u001b[0m (397.54 KB)\n"
            ],
            "text/html": [
              "<pre style=\"white-space:pre;overflow-x:auto;line-height:normal;font-family:Menlo,'DejaVu Sans Mono',consolas,'Courier New',monospace\"><span style=\"font-weight: bold\"> Total params: </span><span style=\"color: #00af00; text-decoration-color: #00af00\">101,770</span> (397.54 KB)\n",
              "</pre>\n"
            ]
          },
          "metadata": {}
        },
        {
          "output_type": "display_data",
          "data": {
            "text/plain": [
              "\u001b[1m Trainable params: \u001b[0m\u001b[38;5;34m101,770\u001b[0m (397.54 KB)\n"
            ],
            "text/html": [
              "<pre style=\"white-space:pre;overflow-x:auto;line-height:normal;font-family:Menlo,'DejaVu Sans Mono',consolas,'Courier New',monospace\"><span style=\"font-weight: bold\"> Trainable params: </span><span style=\"color: #00af00; text-decoration-color: #00af00\">101,770</span> (397.54 KB)\n",
              "</pre>\n"
            ]
          },
          "metadata": {}
        },
        {
          "output_type": "display_data",
          "data": {
            "text/plain": [
              "\u001b[1m Non-trainable params: \u001b[0m\u001b[38;5;34m0\u001b[0m (0.00 B)\n"
            ],
            "text/html": [
              "<pre style=\"white-space:pre;overflow-x:auto;line-height:normal;font-family:Menlo,'DejaVu Sans Mono',consolas,'Courier New',monospace\"><span style=\"font-weight: bold\"> Non-trainable params: </span><span style=\"color: #00af00; text-decoration-color: #00af00\">0</span> (0.00 B)\n",
              "</pre>\n"
            ]
          },
          "metadata": {}
        }
      ]
    },
    {
      "cell_type": "markdown",
      "source": [
        "`from tensorflow.keras.models import Sequential`\n",
        "\n",
        "`from tensorflow.keras.layers import Dense`\n",
        "\n",
        "Импортируются классы `Sequential` и `Dense` из Keras:\n",
        "\n",
        "`Sequential`: Используется для создания последовательной модели, где каждый слой добавляется один за другим.\n",
        "\n",
        "`Dense`: Полносвязный слой, в котором каждый нейрон соединен с каждым нейроном следующего слоя."
      ],
      "metadata": {
        "id": "SGQn2nyGkoit"
      }
    },
    {
      "cell_type": "markdown",
      "source": [
        "Cоздается последовательная модель с двумя слоями:\n",
        "\n",
        "`Dense(128, activation='relu', input_shape=(784,))`: Первый слой с 128 нейронами и функцией активации ReLU. Параметр input_shape=(784,) определяет, что каждый входной вектор имеет размер 784 (например, это может быть изображение размером 28x28, развернутое в вектор).\n",
        "\n",
        "`Dense(10, activation='softmax')`: Выходной слой с 10 нейронами и функцией активации softmax, которая используется для многоклассовой классификации, где каждый выходной нейрон представляет вероятность принадлежности к одному из 10 классов."
      ],
      "metadata": {
        "id": "uPpKkEkXk0sy"
      }
    },
    {
      "cell_type": "markdown",
      "source": [
        "`model.compile(optimizer='adam', loss='sparse_categorical_crossentropy', metrics=['accuracy'])`\n",
        "\n",
        "`optimizer='adam'`: Указывается оптимизатор Adam для обновления весов модели.\n",
        "\n",
        "`loss='sparse_categorical_crossentropy'`: Задает функцию потерь, которая подходит для задач многоклассовой классификации, где метки представлены целыми числами (например, 0, 1, ..., 9 для 10 классов).\n",
        "\n",
        "`metrics=['accuracy']`: Указывает, что в процессе обучения будет отслеживаться точность."
      ],
      "metadata": {
        "id": "XX_2cXOglEGH"
      }
    },
    {
      "cell_type": "markdown",
      "source": [
        "**Объяснение результата**\n",
        "\n",
        "- **Model**: Имя модели (`\"sequential_3\"`, автоматически сгенерированное Keras).\n",
        "  \n",
        "- **Layer (type)**: Имя и тип слоя:\n",
        "  - `dense_6 (Dense)`: Первый слой `Dense`, содержащий 128 нейронов с активацией ReLU.\n",
        "  - `dense_7 (Dense)`: Второй слой `Dense`, содержащий 10 нейронов с активацией softmax.\n",
        "\n",
        "- **Output Shape**: Размер выхода для каждого слоя:\n",
        "  - `(None, 128)`: Первый слой выдает тензор размера `(None, 128)`. `None` означает, что размер пакета не фиксирован и будет установлен во время обучения или предсказания.\n",
        "  - `(None, 10)`: Второй слой выдает тензор размера `(None, 10)`, где каждый из 10 выходов представляет вероятность принадлежности к одному из классов.\n",
        "\n",
        "- **Param #**: Количество параметров (весов и смещений) в каждом слое:\n",
        "  - `100,480` для первого слоя. Параметры вычисляются как `784 * 128 + 128 = 100,480` (входы * нейроны + смещения).\n",
        "  - `1,290` для второго слоя. Параметры: `128 * 10 + 10 = 1,290` (выходы предыдущего слоя * нейроны + смещения).\n",
        "\n",
        "- **Total params**: Общее количество параметров — 101,770, из которых все являются **trainable** (тренируемыми) параметрами, то есть их значения будут обновляться во время обучения."
      ],
      "metadata": {
        "id": "vej0Y-calX9L"
      }
    },
    {
      "cell_type": "markdown",
      "source": [
        "\n",
        "\n",
        "### Сравнение основных функций\n",
        "\n",
        "| Функция                        | TensorFlow                        | PyTorch                            | Keras                                   |\n",
        "|--------------------------------|-----------------------------------|------------------------------------|-----------------------------------------|\n",
        "| Язык написания                 | C++, CUDA, Python                | Lua                                | Python                                  |\n",
        "| Архитектура                    | Неудобная для использования      | Сложная, менее читаемая            | Простая, лаконичная, читаемая           |\n",
        "| Уровень API                    | Высокий и низкий                 | Низкий                             | Высокий                                 |\n",
        "| Датасеты                       | Большие, высокая производительность | Большие, высокая производительность | Меньшие наборы данных                   |\n",
        "| Отладка                        | Сложно проводить отладку         | Хорошие возможности отладки        | Простая сеть, отладка редко требуется   |\n",
        "| Есть ли готовые модели?        | Да                               | Да                                 | Да                                      |\n",
        "| Популярность                   | Вторая по популярности           | Третья по популярности             | Самая популярная                        |\n",
        "| Скорость                       | Быстрая, высокая производительность | Быстрая, высокая производительность | Медленная, низкая производительность    |\n",
        "\n",
        "\n",
        "TensorFlow с Keras удобен для быстрых прототипов, PyTorch — для исследований и сложных кастомизированных моделей, а чистый Keras может быть лучшим для начала изучения глубокого обучения."
      ],
      "metadata": {
        "id": "BwIS_Cibf2YG"
      }
    }
  ]
}